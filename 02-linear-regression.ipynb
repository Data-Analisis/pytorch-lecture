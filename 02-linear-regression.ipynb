{
 "cells": [
  {
   "cell_type": "markdown",
   "metadata": {},
   "source": [
    "# Linear Regression and Gradient Descent"
   ]
  },
  {
   "cell_type": "markdown",
   "metadata": {},
   "source": [
    "In this notebook we will see how we can perform linear regression in three different ways: \n",
    "1. pure numpy\n",
    "2. numpy + pytorch's autograd \n",
    "3. pure pytorch"
   ]
  },
  {
   "cell_type": "code",
   "execution_count": 1,
   "metadata": {},
   "outputs": [],
   "source": [
    "%matplotlib inline"
   ]
  },
  {
   "cell_type": "code",
   "execution_count": 2,
   "metadata": {},
   "outputs": [],
   "source": [
    "import torch\n",
    "import torch.nn as nn\n",
    "import torch.nn.functional as F\n",
    "import torch.optim as optim\n",
    "import torchvision\n",
    "\n",
    "DEVICE = torch.device(\"cuda:0\" if torch.cuda.is_available() else \"cpu\")"
   ]
  },
  {
   "cell_type": "code",
   "execution_count": 3,
   "metadata": {},
   "outputs": [],
   "source": [
    "from pprint import pprint\n",
    "\n",
    "import matplotlib.pyplot as plt\n",
    "import numpy as np\n",
    "from IPython.core.debugger import set_trace"
   ]
  },
  {
   "cell_type": "code",
   "execution_count": 4,
   "metadata": {},
   "outputs": [
    {
     "data": {
      "text/plain": [
       "<torch._C.Generator at 0x10c999af0>"
      ]
     },
     "execution_count": 4,
     "metadata": {},
     "output_type": "execute_result"
    }
   ],
   "source": [
    "np.random.seed(0)\n",
    "torch.manual_seed(0)"
   ]
  },
  {
   "cell_type": "markdown",
   "metadata": {},
   "source": [
    "# The Problem"
   ]
  },
  {
   "cell_type": "code",
   "execution_count": 99,
   "metadata": {},
   "outputs": [
    {
     "name": "stdout",
     "output_type": "stream",
     "text": [
      "(100, 1) (100,)\n"
     ]
    },
    {
     "data": {
      "image/png": "[encoded data removed]",
      "text/plain": [
       "<Figure size 432x288 with 1 Axes>"
      ]
     },
     "metadata": {
      "needs_background": "light"
     },
     "output_type": "display_data"
    }
   ],
   "source": [
    "from sklearn.datasets import make_regression\n",
    "\n",
    "\n",
    "n_features = 1\n",
    "n_samples = 100\n",
    "\n",
    "X, y = make_regression(\n",
    "    n_samples=n_samples,\n",
    "    n_features=n_features,\n",
    "    noise=20,\n",
    "    random_state=42,\n",
    ")\n",
    "\n",
    "fix, ax = plt.subplots()\n",
    "ax.plot(X, y, \".\")\n",
    "print(X.shape, y.shape)"
   ]
  },
  {
   "cell_type": "markdown",
   "metadata": {},
   "source": [
    "# Numpy Solution"
   ]
  },
  {
   "cell_type": "code",
   "execution_count": 270,
   "metadata": {},
   "outputs": [],
   "source": [
    "class LinearRegression(object):\n",
    "    def __init__(self, n_features, n_targets=1, lr=0.1):\n",
    "        self.W = np.zeros((n_targets, n_features))\n",
    "        self.lr = lr\n",
    "\n",
    "    def update_weight(self, X, y):\n",
    "        m = X.shape[0]\n",
    "        y_hat = self.predict(X)\n",
    "        W_grad = 2 * np.dot(X.T, y_hat - y) / m\n",
    "        self.W = self.W - self.lr * W_grad\n",
    "\n",
    "    def loss(self, y_hat, y):\n",
    "        return np.mean(np.power(y_hat - y, 2))\n",
    "\n",
    "    def predict(self, X):\n",
    "        y_hat = np.dot(X, self.W.T)\n",
    "        return y_hat.squeeze(-1)\n",
    "\n",
    "    def train(self, X, y, epochs=50):\n",
    "        \"\"\"\n",
    "        X (n_examples x n_features):\n",
    "        y (n_examples): gold labels\n",
    "        \"\"\"\n",
    "        loss_history = []\n",
    "        for _ in range(epochs):\n",
    "            # for x_i, y_i in zip(X, y):\n",
    "            #        self.update_weight(x_i, y_i)\n",
    "            self.update_weight(X, y)\n",
    "            y_hat = self.predict(X)\n",
    "            loss = self.loss(y_hat, y)\n",
    "            loss_history.append(loss)\n",
    "        return loss_history"
   ]
  },
  {
   "cell_type": "code",
   "execution_count": 240,
   "metadata": {},
   "outputs": [],
   "source": [
    "use_bias = False\n",
    "if use_bias:\n",
    "    X_np = np.hstack([np.ones((n_samples,1)), X])\n",
    "    n_features += 1\n",
    "else:\n",
    "    X_np = X"
   ]
  },
  {
   "cell_type": "code",
   "execution_count": 267,
   "metadata": {},
   "outputs": [],
   "source": [
    "model = LinearRegression(n_features=n_features, n_targets=1, lr=0.1)\n",
    "loss_history = model.train(X_np, y, epochs=50)\n",
    "y_hat = model.predict(X_np)"
   ]
  },
  {
   "cell_type": "code",
   "execution_count": 268,
   "metadata": {},
   "outputs": [
    {
     "data": {
      "image/png": "[encoded data removed]",
      "text/plain": [
       "<Figure size 432x288 with 1 Axes>"
      ]
     },
     "metadata": {
      "needs_background": "light"
     },
     "output_type": "display_data"
    }
   ],
   "source": [
    "plt.plot(loss_history)\n",
    "plt.title('Loss per epoch');"
   ]
  },
  {
   "cell_type": "code",
   "execution_count": 269,
   "metadata": {},
   "outputs": [
    {
     "data": {
      "image/png": "[encoded data removed]",
      "text/plain": [
       "<Figure size 432x288 with 1 Axes>"
      ]
     },
     "metadata": {
      "needs_background": "light"
     },
     "output_type": "display_data"
    }
   ],
   "source": [
    "# Vis\n",
    "fig, ax = plt.subplots()\n",
    "ax.plot(X, y, \".\", label=\"data\")\n",
    "ax.plot(X, y_hat, \".\", label=\"pred\")\n",
    "ax.set_title(f\"MSE: {loss_history[-1]:0.1f}\")\n",
    "ax.legend();"
   ]
  },
  {
   "cell_type": "markdown",
   "metadata": {},
   "source": [
    "# Numpy + Autograd Solution"
   ]
  },
  {
   "cell_type": "code",
   "execution_count": 277,
   "metadata": {},
   "outputs": [],
   "source": [
    "class MixedLinearRegression(object):\n",
    "    def __init__(self, n_features, n_targets=1, lr=0.01):\n",
    "        self.W = torch.zeros(n_targets, n_features, requires_grad=True)  # note requires_grad=True!\n",
    "        self.lr = lr\n",
    "    \n",
    "    def update_weight(self):\n",
    "        # Gradients are given to us by autograd!\n",
    "        self.W.data = self.W.data - self.lr * self.W.grad.data\n",
    "\n",
    "    def loss(self, y_hat, y):\n",
    "        return torch.mean(torch.pow(y_hat - y, 2))\n",
    "\n",
    "    def predict(self, X):\n",
    "        y_hat = torch.matmul(X, self.W.t())\n",
    "        return y_hat.squeeze(-1)\n",
    "\n",
    "    def train(self, X, y, epochs=50):\n",
    "        \"\"\"\n",
    "        X (n_examples x n_features):\n",
    "        y (n_examples): gold labels\n",
    "        \"\"\"\n",
    "        loss_history = []\n",
    "        for _ in range(epochs):\n",
    "            \n",
    "            # Our neural net is a Line function!\n",
    "            y_hat = self.predict(X)\n",
    "            \n",
    "            # Compute the loss using torch operations so they are saved in the gradient history.\n",
    "            loss = self.loss(y_hat, y)\n",
    "            \n",
    "            # Computes the gradient of loss with respect to all Variables with requires_grad=True.\n",
    "            loss.backward()\n",
    "            loss_history.append(loss.item())\n",
    "\n",
    "            # Update a and b using gradient descent; a.data and b.data are Tensors.\n",
    "            self.update_weight()\n",
    "\n",
    "            # Reset the accumulated gradients\n",
    "            self.W.grad.data.zero_()\n",
    "            \n",
    "        return loss_history"
   ]
  },
  {
   "cell_type": "code",
   "execution_count": 278,
   "metadata": {},
   "outputs": [],
   "source": [
    "X_pt = torch.from_numpy(X_np).float()\n",
    "y_pt = torch.from_numpy(y).float()"
   ]
  },
  {
   "cell_type": "code",
   "execution_count": 279,
   "metadata": {},
   "outputs": [],
   "source": [
    "model = MixedLinearRegression(n_features=n_features, n_targets=1, lr=0.1)\n",
    "loss_history = model.train(X_pt, y_pt, epochs=50)\n",
    "with torch.no_grad():\n",
    "    y_hat = model.predict(X_pt)"
   ]
  },
  {
   "cell_type": "code",
   "execution_count": 280,
   "metadata": {},
   "outputs": [
    {
     "data": {
      "image/png": "[encoded data removed]",
      "text/plain": [
       "<Figure size 432x288 with 1 Axes>"
      ]
     },
     "metadata": {
      "needs_background": "light"
     },
     "output_type": "display_data"
    }
   ],
   "source": [
    "plt.plot(loss_history)\n",
    "plt.title('Loss per epoch');"
   ]
  },
  {
   "cell_type": "code",
   "execution_count": 281,
   "metadata": {},
   "outputs": [
    {
     "data": {
      "image/png": "[encoded data removed]",
      "text/plain": [
       "<Figure size 432x288 with 1 Axes>"
      ]
     },
     "metadata": {
      "needs_background": "light"
     },
     "output_type": "display_data"
    }
   ],
   "source": [
    "# Vis\n",
    "fig, ax = plt.subplots()\n",
    "ax.plot(X_pt.cpu().numpy(), y_pt.cpu().numpy(), \".\", label=\"data\")\n",
    "ax.plot(X_pt.cpu().numpy(), y_hat.cpu().numpy(), \".\", label=\"pred\")\n",
    "ax.set_title(f\"MSE: {loss_history[-1]:0.1f}\")\n",
    "ax.legend();"
   ]
  },
  {
   "cell_type": "markdown",
   "metadata": {},
   "source": [
    "# PyTorch Solution"
   ]
  },
  {
   "cell_type": "code",
   "execution_count": 282,
   "metadata": {},
   "outputs": [],
   "source": [
    "X = torch.from_numpy(X).float()\n",
    "y = torch.from_numpy(y.reshape((n_samples, n_features))).float()"
   ]
  },
  {
   "cell_type": "code",
   "execution_count": 290,
   "metadata": {},
   "outputs": [],
   "source": [
    "class LinReg(nn.Module):\n",
    "    def __init__(self, input_dim):\n",
    "        super().__init__()\n",
    "        self.beta = nn.Linear(input_dim, 1)\n",
    "\n",
    "    def forward(self, X):\n",
    "        return self.beta(X)"
   ]
  },
  {
   "cell_type": "code",
   "execution_count": 284,
   "metadata": {},
   "outputs": [],
   "source": [
    "# define model, loss function and optmizer\n",
    "model = LinReg(n_features).to(DEVICE)  # <-- here\n",
    "loss_fn = nn.MSELoss()\n",
    "optimizer = optim.SGD(model.parameters(), lr=0.1)\n",
    "\n",
    "# move to CUDA if available\n",
    "X, y = X.to(DEVICE), y.to(DEVICE)  # <-- here"
   ]
  },
  {
   "cell_type": "code",
   "execution_count": 285,
   "metadata": {},
   "outputs": [],
   "source": [
    "def train(model, X, y, epochs=50):\n",
    "    model.train()  # <-- here\n",
    "    loss_history = []\n",
    "    for _ in range(epochs):\n",
    "        optimizer.zero_grad()\n",
    "\n",
    "        y_ = model(X)\n",
    "        loss = loss_fn(y_, y)\n",
    "        \n",
    "        loss_history.append(loss.item())\n",
    "\n",
    "        loss.backward()\n",
    "        optimizer.step()\n",
    "\n",
    "    return loss_history"
   ]
  },
  {
   "cell_type": "code",
   "execution_count": 286,
   "metadata": {},
   "outputs": [],
   "source": [
    "def evaluate(model, X):\n",
    "    model.eval()  # <-- here\n",
    "    with torch.no_grad():\n",
    "        y_ = model(X)    \n",
    "    return y_"
   ]
  },
  {
   "cell_type": "code",
   "execution_count": 287,
   "metadata": {},
   "outputs": [],
   "source": [
    "loss_history = train(model, X, y, epochs=50)\n",
    "y_hat = evaluate(model, X)"
   ]
  },
  {
   "cell_type": "code",
   "execution_count": 288,
   "metadata": {},
   "outputs": [
    {
     "data": {
      "image/png": "[encoded data removed]",
      "text/plain": [
       "<Figure size 432x288 with 1 Axes>"
      ]
     },
     "metadata": {
      "needs_background": "light"
     },
     "output_type": "display_data"
    }
   ],
   "source": [
    "plt.plot(loss_history)\n",
    "plt.title('Loss per epoch');"
   ]
  },
  {
   "cell_type": "code",
   "execution_count": 289,
   "metadata": {},
   "outputs": [
    {
     "data": {
      "image/png": "[encoded data removed]",
      "text/plain": [
       "<Figure size 432x288 with 1 Axes>"
      ]
     },
     "metadata": {
      "needs_background": "light"
     },
     "output_type": "display_data"
    }
   ],
   "source": [
    "# Vis\n",
    "fig, ax = plt.subplots()\n",
    "ax.plot(X.cpu().numpy(), y.cpu().numpy(), \".\", label=\"data\")\n",
    "ax.plot(X.cpu().numpy(), y_hat.cpu().numpy(), \".\", label=\"pred\")\n",
    "ax.set_title(f\"MSE: {loss_history[-1]:0.1f}\")\n",
    "ax.legend();"
   ]
  },
  {
   "cell_type": "markdown",
   "metadata": {},
   "source": [
    "Note: I did gradient descent with all the data. I did not split the data into `train` and `valid` which should be done!"
   ]
  },
  {
   "cell_type": "markdown",
   "metadata": {},
   "source": [
    "## Exercise"
   ]
  },
  {
   "cell_type": "markdown",
   "metadata": {},
   "source": [
    "- Write a proper training loop for PyTorch."
   ]
  }
 ],
 "metadata": {
  "anaconda-cloud": {},
  "kernelspec": {
   "display_name": "Python 3",
   "language": "python",
   "name": "python3"
  },
  "language_info": {
   "codemirror_mode": {
    "name": "ipython",
    "version": 3
   },
   "file_extension": ".py",
   "mimetype": "text/x-python",
   "name": "python",
   "nbconvert_exporter": "python",
   "pygments_lexer": "ipython3",
   "version": "3.8.5"
  }
 },
 "nbformat": 4,
 "nbformat_minor": 1
}
