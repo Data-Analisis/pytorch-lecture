{
 "cells": [
  {
   "cell_type": "markdown",
   "metadata": {},
   "source": [
    "## Numpy and Computation Efficiency\n",
    "\n",
    "This notebooks illustrates the computational efficiency of running linear algebra with the proper tools - such as numpy.\n",
    "\n",
    "Let's compute an array dot product in Python:"
   ]
  },
  {
   "cell_type": "code",
   "execution_count": 3,
   "metadata": {
    "collapsed": true
   },
   "outputs": [],
   "source": [
    "import numpy as np"
   ]
  },
  {
   "cell_type": "code",
   "execution_count": 4,
   "metadata": {
    "collapsed": false
   },
   "outputs": [
    {
     "name": "stdout",
     "output_type": "stream",
     "text": [
      "v1 = [0, 1, 2, 3, 4, 5, 6, 7, 8, 9, 10, 11, 12, 13, 14, 15, 16, 17, 18, 19, 20, 21, 22, 23, 24, 25, 26, 27, 28, 29, 30, 31, 32, 33, 34, 35, 36, 37, 38, 39, 40, 41, 42, 43, 44, 45, 46, 47, 48, 49, 50, 51, 52, 53, 54, 55, 56, 57, 58, 59, 60, 61, 62, 63, 64, 65, 66, 67, 68, 69, 70, 71, 72, 73, 74, 75, 76, 77, 78, 79, 80, 81, 82, 83, 84, 85, 86, 87, 88, 89, 90, 91, 92, 93, 94, 95, 96, 97, 98, 99]\n",
      "\n",
      "v2 = [100, 101, 102, 103, 104, 105, 106, 107, 108, 109, 110, 111, 112, 113, 114, 115, 116, 117, 118, 119, 120, 121, 122, 123, 124, 125, 126, 127, 128, 129, 130, 131, 132, 133, 134, 135, 136, 137, 138, 139, 140, 141, 142, 143, 144, 145, 146, 147, 148, 149, 150, 151, 152, 153, 154, 155, 156, 157, 158, 159, 160, 161, 162, 163, 164, 165, 166, 167, 168, 169, 170, 171, 172, 173, 174, 175, 176, 177, 178, 179, 180, 181, 182, 183, 184, 185, 186, 187, 188, 189, 190, 191, 192, 193, 194, 195, 196, 197, 198, 199]\n",
      "\n",
      "v1 dot v2 = 823350\n"
     ]
    }
   ],
   "source": [
    "def array_dot_product(v1, v2):\n",
    "    dot_product = 0\n",
    "    \n",
    "    for v1_i, v2_i in zip(v1, v2):\n",
    "        dot_product += v1_i * v2_i\n",
    "    \n",
    "    return dot_product\n",
    "\n",
    "v1 = list(range(100))\n",
    "v2 = list(range(100, 200))\n",
    "\n",
    "print(\"v1 = %s\\n\" % v1)\n",
    "print(\"v2 = %s\\n\" % v2)\n",
    "\n",
    "result = array_dot_product(v1, v2)\n",
    "print(\"v1 dot v2 = %d\" % result)"
   ]
  },
  {
   "cell_type": "markdown",
   "metadata": {},
   "source": [
    "Okay, it works, but how long does it take?"
   ]
  },
  {
   "cell_type": "code",
   "execution_count": 37,
   "metadata": {
    "collapsed": false
   },
   "outputs": [
    {
     "name": "stdout",
     "output_type": "stream",
     "text": [
      "8.43 µs ± 113 ns per loop (mean ± std. dev. of 7 runs, 100000 loops each)\n"
     ]
    }
   ],
   "source": [
    "%timeit array_dot_product(v1, v2)"
   ]
  },
  {
   "cell_type": "markdown",
   "metadata": {},
   "source": [
    "Now let's try with numpy -- it uses data structures like in C, optimized for mathematical operations, without the Python overhead."
   ]
  },
  {
   "cell_type": "code",
   "execution_count": 5,
   "metadata": {
    "collapsed": false
   },
   "outputs": [
    {
     "name": "stdout",
     "output_type": "stream",
     "text": [
      "v1: [ 0  1  2  3  4  5  6  7  8  9 10 11 12 13 14 15 16 17 18 19 20 21 22 23\n",
      " 24 25 26 27 28 29 30 31 32 33 34 35 36 37 38 39 40 41 42 43 44 45 46 47\n",
      " 48 49 50 51 52 53 54 55 56 57 58 59 60 61 62 63 64 65 66 67 68 69 70 71\n",
      " 72 73 74 75 76 77 78 79 80 81 82 83 84 85 86 87 88 89 90 91 92 93 94 95\n",
      " 96 97 98 99]\n",
      "\n",
      "v2: [100 101 102 103 104 105 106 107 108 109 110 111 112 113 114 115 116 117\n",
      " 118 119 120 121 122 123 124 125 126 127 128 129 130 131 132 133 134 135\n",
      " 136 137 138 139 140 141 142 143 144 145 146 147 148 149 150 151 152 153\n",
      " 154 155 156 157 158 159 160 161 162 163 164 165 166 167 168 169 170 171\n",
      " 172 173 174 175 176 177 178 179 180 181 182 183 184 185 186 187 188 189\n",
      " 190 191 192 193 194 195 196 197 198 199]\n",
      "\n",
      "v1 dot v2 = 823350\n"
     ]
    }
   ],
   "source": [
    "v1_np = np.arange(100)\n",
    "v2_np = np.arange(100, 200)\n",
    "print(\"v1: %s\\n\" % v1_np)\n",
    "print(\"v2: %s\\n\" % v2_np)\n",
    "\n",
    "result = v1_np.dot(v2_np)\n",
    "print(\"v1 dot v2 = %d\" % result)"
   ]
  },
  {
   "cell_type": "markdown",
   "metadata": {},
   "source": [
    "Nice, aligned formatting. Now let's check the running time."
   ]
  },
  {
   "cell_type": "code",
   "execution_count": 6,
   "metadata": {
    "collapsed": true
   },
   "outputs": [],
   "source": [
    "def time_dot_product(array1, array2):\n",
    "    print(\"Time to compute the dot product vectors with shapes %s and %s\" % (array1.shape, array2.shape))\n",
    "    %timeit array1.dot(array2)"
   ]
  },
  {
   "cell_type": "code",
   "execution_count": 26,
   "metadata": {
    "collapsed": false
   },
   "outputs": [
    {
     "name": "stdout",
     "output_type": "stream",
     "text": [
      "Time to compute the dot product vectors with shapes (100,) and (100,)\n",
      "783 ns ± 4.15 ns per loop (mean ± std. dev. of 7 runs, 1000000 loops each)\n"
     ]
    }
   ],
   "source": [
    "time_dot_product(v1_np, v2_np)"
   ]
  },
  {
   "cell_type": "markdown",
   "metadata": {},
   "source": [
    "What about matrices?"
   ]
  },
  {
   "cell_type": "code",
   "execution_count": 1,
   "metadata": {
    "collapsed": true
   },
   "outputs": [],
   "source": [
    "def matrix_dot_product(m1, m2_t):\n",
    "    num_rows = len(m1)\n",
    "    num_columns = len(m2_t)\n",
    "    internal_dim = len(m1[0])\n",
    "    result = []\n",
    "    \n",
    "    for i in range(num_rows):\n",
    "        new_row = []\n",
    "        for j in range(num_columns):\n",
    "            total = 0\n",
    "            for k in range(internal_dim):\n",
    "                total += m1[i][k] * m2_t[j][k]\n",
    "            new_row.append(total)\n",
    "        result.append(new_row)\n",
    "    \n",
    "    return result"
   ]
  },
  {
   "cell_type": "code",
   "execution_count": 20,
   "metadata": {
    "collapsed": false
   },
   "outputs": [],
   "source": [
    "m1 = np.random.rand(100, 200)\n",
    "m2 = np.random.rand(200, 300)\n",
    "\n",
    "m2_t = m2.T\n",
    "m1_list = m1.tolist()\n",
    "m2_t_list = m2_t.tolist()\n",
    "result_list = matrix_dot_product(m1_list, m2_t_list)\n",
    "result_numpy = m1.dot(m2)"
   ]
  },
  {
   "cell_type": "markdown",
   "metadata": {},
   "source": [
    "Checking the results..."
   ]
  },
  {
   "cell_type": "code",
   "execution_count": 21,
   "metadata": {
    "collapsed": false
   },
   "outputs": [
    {
     "data": {
      "text/plain": [
       "array([[ True,  True, False, ...,  True,  True, False],\n",
       "       [False,  True, False, ..., False,  True,  True],\n",
       "       [ True,  True,  True, ...,  True,  True, False],\n",
       "       ...,\n",
       "       [ True, False,  True, ..., False,  True, False],\n",
       "       [False, False,  True, ..., False,  True, False],\n",
       "       [ True,  True,  True, ..., False,  True, False]])"
      ]
     },
     "execution_count": 21,
     "metadata": {},
     "output_type": "execute_result"
    }
   ],
   "source": [
    "result_list = np.array(result_list)\n",
    "result_list == result_numpy"
   ]
  },
  {
   "cell_type": "markdown",
   "metadata": {},
   "source": [
    "Different? How much?"
   ]
  },
  {
   "cell_type": "code",
   "execution_count": 22,
   "metadata": {
    "collapsed": false
   },
   "outputs": [
    {
     "data": {
      "text/plain": [
       "array([[ 0.00000000e+00,  0.00000000e+00, -7.10542736e-15, ...,\n",
       "         0.00000000e+00,  0.00000000e+00,  2.84217094e-14],\n",
       "       [-7.10542736e-15,  0.00000000e+00, -7.10542736e-15, ...,\n",
       "         7.10542736e-15,  0.00000000e+00,  0.00000000e+00],\n",
       "       [ 0.00000000e+00,  0.00000000e+00,  0.00000000e+00, ...,\n",
       "         0.00000000e+00,  0.00000000e+00, -2.13162821e-14],\n",
       "       ...,\n",
       "       [ 0.00000000e+00,  1.42108547e-14,  0.00000000e+00, ...,\n",
       "        -7.10542736e-15,  0.00000000e+00,  1.42108547e-14],\n",
       "       [-7.10542736e-15, -7.10542736e-15,  0.00000000e+00, ...,\n",
       "         7.10542736e-15,  0.00000000e+00, -7.10542736e-15],\n",
       "       [ 0.00000000e+00,  0.00000000e+00,  0.00000000e+00, ...,\n",
       "        -7.10542736e-15,  0.00000000e+00, -4.97379915e-14]])"
      ]
     },
     "execution_count": 22,
     "metadata": {},
     "output_type": "execute_result"
    }
   ],
   "source": [
    "result_list - result_numpy"
   ]
  },
  {
   "cell_type": "code",
   "execution_count": 23,
   "metadata": {
    "collapsed": false
   },
   "outputs": [
    {
     "data": {
      "text/plain": [
       "8.738965107113472e-11"
      ]
     },
     "execution_count": 23,
     "metadata": {},
     "output_type": "execute_result"
    }
   ],
   "source": [
    "np.abs(result_list - result_numpy).sum()"
   ]
  },
  {
   "cell_type": "markdown",
   "metadata": {},
   "source": [
    "Okay. Now lets time it again."
   ]
  },
  {
   "cell_type": "code",
   "execution_count": 24,
   "metadata": {
    "collapsed": false
   },
   "outputs": [
    {
     "name": "stdout",
     "output_type": "stream",
     "text": [
      "871 ms ± 8.4 ms per loop (mean ± std. dev. of 7 runs, 1 loop each)\n"
     ]
    }
   ],
   "source": [
    "%timeit matrix_dot_product(m1_list, m2_t_list)"
   ]
  },
  {
   "cell_type": "code",
   "execution_count": 25,
   "metadata": {
    "collapsed": false
   },
   "outputs": [
    {
     "name": "stdout",
     "output_type": "stream",
     "text": [
      "131 µs ± 6.28 µs per loop (mean ± std. dev. of 7 runs, 10000 loops each)\n"
     ]
    }
   ],
   "source": [
    "%timeit m1.dot(m2)"
   ]
  }
 ],
 "metadata": {
  "anaconda-cloud": {},
  "kernelspec": {
   "display_name": "Python [conda env:python3]",
   "language": "python",
   "name": "conda-env-python3-py"
  },
  "language_info": {
   "codemirror_mode": {
    "name": "ipython",
    "version": 3
   },
   "file_extension": ".py",
   "mimetype": "text/x-python",
   "name": "python",
   "nbconvert_exporter": "python",
   "pygments_lexer": "ipython3",
   "version": "3.6.2"
  }
 },
 "nbformat": 4,
 "nbformat_minor": 2
}
