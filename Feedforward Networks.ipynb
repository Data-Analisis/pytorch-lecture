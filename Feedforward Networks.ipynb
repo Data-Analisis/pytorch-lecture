{
 "cells": [
  {
   "cell_type": "code",
   "execution_count": 2,
   "metadata": {
    "collapsed": true
   },
   "outputs": [],
   "source": [
    "import torch\n",
    "import numpy as np"
   ]
  },
  {
   "cell_type": "markdown",
   "metadata": {},
   "source": [
    "## Read the data\n",
    "\n",
    "Read the data and store them in numpy arrays"
   ]
  },
  {
   "cell_type": "code",
   "execution_count": 5,
   "metadata": {
    "collapsed": false
   },
   "outputs": [],
   "source": [
    "train_x = []\n",
    "train_y = []\n",
    "valid_x = []\n",
    "valid_y = []\n",
    "test_x = []\n",
    "test_y = []\n",
    "\n",
    "with open('letter.data', 'r') as f:\n",
    "    for line in f:\n",
    "        # column 0 is the id, column 1 is the class\n",
    "        # 2 is next char, 3 is word id\n",
    "        # 4 is the char position, 5 is the cross-validation fold\n",
    "        fields = line.split()\n",
    "        label = ord(fields[1]) - 97  # 97 is the code for 'a'\n",
    "        fold = int(fields[5])\n",
    "        pixels = [int(value) for value in fields[6:]]\n",
    "        \n",
    "        if fold <= 7:\n",
    "            x = train_x\n",
    "            y = train_y\n",
    "        elif fold == 8:\n",
    "            x = valid_x\n",
    "            y = valid_y\n",
    "        else:\n",
    "            x = test_x\n",
    "            y = test_y\n",
    "        \n",
    "        x.append(pixels)\n",
    "        y.append(label)\n",
    "\n",
    "train_x = np.array(train_x)        \n",
    "train_y = np.array(train_y)\n",
    "valid_x = np.array(valid_x)\n",
    "valid_y = np.array(valid_y)\n",
    "test_x = np.array(test_x)\n",
    "test_y = np.array(test_y)"
   ]
  },
  {
   "cell_type": "markdown",
   "metadata": {},
   "source": [
    "Check the sizes. It should be 41,679 for training, 5,331 for validation and 5,142 for testing."
   ]
  },
  {
   "cell_type": "code",
   "execution_count": 13,
   "metadata": {
    "collapsed": false
   },
   "outputs": [
    {
     "name": "stdout",
     "output_type": "stream",
     "text": [
      "41679, 5331 and 5142 train, validation and test instances\n"
     ]
    }
   ],
   "source": [
    "print(\"%d, %d and %d train, validation and test instances\" % (len(train_x), len(valid_x), len(test_x)))"
   ]
  },
  {
   "cell_type": "code",
   "execution_count": null,
   "metadata": {
    "collapsed": true
   },
   "outputs": [],
   "source": []
  }
 ],
 "metadata": {
  "anaconda-cloud": {},
  "kernelspec": {
   "display_name": "Python [conda env:python3]",
   "language": "python",
   "name": "conda-env-python3-py"
  },
  "language_info": {
   "codemirror_mode": {
    "name": "ipython",
    "version": 3
   },
   "file_extension": ".py",
   "mimetype": "text/x-python",
   "name": "python",
   "nbconvert_exporter": "python",
   "pygments_lexer": "ipython3",
   "version": "3.6.2"
  }
 },
 "nbformat": 4,
 "nbformat_minor": 1
}
